{
 "cells": [
  {
   "cell_type": "code",
   "execution_count": 1,
   "metadata": {},
   "outputs": [],
   "source": [
    "def dalyba(a,b):\n",
    "    try:\n",
    "        res = a/b\n",
    "    except Exception as e:\n",
    "        print(e, e.__class__)\n",
    "    else:\n",
    "        print(f\"dalyba: {a}/{b}={res}\" )"
   ]
  },
  {
   "cell_type": "code",
   "execution_count": 8,
   "metadata": {},
   "outputs": [
    {
     "name": "stderr",
     "output_type": "stream",
     "text": [
      "INFO:root:dalyba: 7/3=2.3333333333333335\n"
     ]
    },
    {
     "data": {
      "text/plain": [
       "2.3333333333333335"
      ]
     },
     "execution_count": 8,
     "metadata": {},
     "output_type": "execute_result"
    }
   ],
   "source": [
    "dalyba(7,3)"
   ]
  },
  {
   "cell_type": "code",
   "execution_count": 7,
   "metadata": {},
   "outputs": [
    {
     "name": "stderr",
     "output_type": "stream",
     "text": [
      "ERROR:root:division by zero<class 'ZeroDivisionError'>\n",
      "Traceback (most recent call last):\n",
      "  File \"C:\\Users\\serge\\AppData\\Local\\Temp\\ipykernel_24252\\1148687487.py\", line 7, in dalyba\n",
      "    res = a/b\n",
      "ZeroDivisionError: division by zero\n"
     ]
    }
   ],
   "source": [
    "dalyba(7,0)"
   ]
  },
  {
   "cell_type": "code",
   "execution_count": 6,
   "metadata": {},
   "outputs": [],
   "source": [
    "import logging # gali rusiuoti klaidos(error) pagal svarbumo level DEBUG - problemu ieskojamas, \n",
    "\n",
    "logging.basicConfig(level=logging.DEBUG)\n",
    "\n",
    "def dalyba(a,b):\n",
    "    try:\n",
    "        res = a/b\n",
    "    except Exception as e:\n",
    "        # ismetam pranesima kad ivyko\n",
    "        logging.exception(str(e) + str(e.__class__))\n",
    "    else:\n",
    "        logging.info(f\"dalyba: {a}/{b}={res}\")\n",
    "        return res"
   ]
  },
  {
   "cell_type": "code",
   "execution_count": 9,
   "metadata": {},
   "outputs": [
    {
     "name": "stderr",
     "output_type": "stream",
     "text": [
      "INFO:root:dalyba: 7/3=2.3333333333333335\n"
     ]
    },
    {
     "data": {
      "text/plain": [
       "2.3333333333333335"
      ]
     },
     "execution_count": 9,
     "metadata": {},
     "output_type": "execute_result"
    }
   ],
   "source": [
    "dalyba(7,3)"
   ]
  }
 ],
 "metadata": {
  "kernelspec": {
   "display_name": "Python 3.10.6 64-bit",
   "language": "python",
   "name": "python3"
  },
  "language_info": {
   "codemirror_mode": {
    "name": "ipython",
    "version": 3
   },
   "file_extension": ".py",
   "mimetype": "text/x-python",
   "name": "python",
   "nbconvert_exporter": "python",
   "pygments_lexer": "ipython3",
   "version": "3.10.6"
  },
  "orig_nbformat": 4,
  "vscode": {
   "interpreter": {
    "hash": "05d0ac6c0e661dcf7870716260c4c1d46f6d6ed7db6e1bd675f8387b27b9c356"
   }
  }
 },
 "nbformat": 4,
 "nbformat_minor": 2
}
